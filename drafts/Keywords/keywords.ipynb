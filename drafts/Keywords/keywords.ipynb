{
 "cells": [
  {
   "cell_type": "code",
   "execution_count": 5,
   "metadata": {
    "ExecuteTime": {
     "end_time": "2020-12-04T19:23:03.897638Z",
     "start_time": "2020-12-04T19:22:59.757548Z"
    }
   },
   "outputs": [],
   "source": [
    "import pandas as pd"
   ]
  },
  {
   "cell_type": "code",
   "execution_count": 1,
   "metadata": {
    "ExecuteTime": {
     "end_time": "2020-12-04T19:22:23.730351Z",
     "start_time": "2020-12-04T19:22:23.722351Z"
    }
   },
   "outputs": [],
   "source": [
    "filename = r\"D:\\working repos\\Data-e-Bricks(files & works)\\drafts\\Keywords\\keywords-selection-Dream_Brick.txt\""
   ]
  },
  {
   "cell_type": "code",
   "execution_count": 2,
   "metadata": {
    "ExecuteTime": {
     "end_time": "2020-12-04T19:22:25.908601Z",
     "start_time": "2020-12-04T19:22:25.893600Z"
    }
   },
   "outputs": [],
   "source": [
    "with open(filename) as f:\n",
    "    content = f.readlines()\n",
    "# you may also want to remove whitespace characters like `\\n` at the end of each line\n",
    "content = [x.strip() for x in content] "
   ]
  },
  {
   "cell_type": "code",
   "execution_count": 6,
   "metadata": {
    "ExecuteTime": {
     "end_time": "2020-12-04T19:23:03.945637Z",
     "start_time": "2020-12-04T19:23:03.900642Z"
    }
   },
   "outputs": [],
   "source": [
    "keyword_list = pd.DataFrame(content)"
   ]
  },
  {
   "cell_type": "code",
   "execution_count": 8,
   "metadata": {
    "ExecuteTime": {
     "end_time": "2020-12-04T19:23:28.305144Z",
     "start_time": "2020-12-04T19:23:28.269102Z"
    }
   },
   "outputs": [],
   "source": [
    "keyword_list.to_csv(r\"D:\\working repos\\Data-e-Bricks(files & works)\\drafts\\Keywords\\keywords.csv\")\n"
   ]
  },
  {
   "cell_type": "code",
   "execution_count": null,
   "metadata": {},
   "outputs": [],
   "source": []
  }
 ],
 "metadata": {
  "kernelspec": {
   "display_name": "Python 3",
   "language": "python",
   "name": "python3"
  },
  "language_info": {
   "codemirror_mode": {
    "name": "ipython",
    "version": 3
   },
   "file_extension": ".py",
   "mimetype": "text/x-python",
   "name": "python",
   "nbconvert_exporter": "python",
   "pygments_lexer": "ipython3",
   "version": "3.7.8"
  }
 },
 "nbformat": 4,
 "nbformat_minor": 4
}
